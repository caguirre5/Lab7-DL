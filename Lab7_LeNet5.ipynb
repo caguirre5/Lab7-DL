{
  "cells": [
    {
      "cell_type": "markdown",
      "metadata": {
        "id": "4tE0yGFdfd9J"
      },
      "source": [
        "# Lab7\n",
        "## Implementacion de arquitectura ***LeNet5***\n",
        "\n",
        "grupo:\n",
        "- Diego Cordova: 20212\n",
        "- Marco Jurado: 20308\n",
        "- Cristian Aguirre: 20231"
      ]
    },
    {
      "cell_type": "markdown",
      "metadata": {
        "id": "WgWk3FLafe4F"
      },
      "source": [
        "### Carga de datos"
      ]
    },
    {
      "cell_type": "code",
      "execution_count": 187,
      "metadata": {
        "id": "wymWhp70b5yn"
      },
      "outputs": [],
      "source": [
        "from tensorflow import keras\n",
        "(x_train, y_train), (x_test, y_test) = keras.datasets.mnist.load_data()"
      ]
    },
    {
      "cell_type": "code",
      "execution_count": 188,
      "metadata": {
        "colab": {
          "base_uri": "https://localhost:8080/",
          "height": 428
        },
        "id": "S1QKePdUdm9F",
        "outputId": "76c2d17c-b22c-4483-c690-c9edbe4db820"
      },
      "outputs": [
        {
          "data": {
            "image/png": "[encoded data removed]",
            "text/plain": [
              "<Figure size 640x480 with 1 Axes>"
            ]
          },
          "metadata": {},
          "output_type": "display_data"
        }
      ],
      "source": [
        "import matplotlib.pyplot as plt\n",
        "\n",
        "# Mostrar una imagen de ejemplo del conjunto de entrenamiento\n",
        "sample_image = x_train[100]  # Cambia el índice para ver diferentes imágenes\n",
        "sample_label = y_train[100]  # Etiqueta de la imagen de ejemplo\n",
        "\n",
        "# Dado que las imágenes están en color (3 canales), puedes usar plt.imshow para visualizarlas\n",
        "plt.imshow(sample_image)\n",
        "plt.title(f'Clase: {sample_label}')\n",
        "plt.axis('off')  # Desactivar los ejes para una mejor visualización\n",
        "plt.show()"
      ]
    },
    {
      "cell_type": "markdown",
      "metadata": {
        "id": "FVc_rIB3fhkW"
      },
      "source": [
        "### Imports y verificacion de GPU"
      ]
    },
    {
      "cell_type": "code",
      "execution_count": 189,
      "metadata": {
        "colab": {
          "base_uri": "https://localhost:8080/"
        },
        "id": "c5KfBA2yfXrp",
        "outputId": "111f384f-b803-43db-cfd3-f7360e4f686a"
      },
      "outputs": [
        {
          "name": "stdout",
          "output_type": "stream",
          "text": [
            "cuda:0\n"
          ]
        }
      ],
      "source": [
        "import torch\n",
        "import torch.nn as nn\n",
        "import torch.optim as optim\n",
        "import torchvision\n",
        "import torchvision.transforms as transforms\n",
        "\n",
        "device = torch.device(\"cuda:0\" if torch.cuda.is_available() else \"cpu\")\n",
        "print(device)"
      ]
    },
    {
      "cell_type": "markdown",
      "metadata": {
        "id": "9sEsZXMmfa77"
      },
      "source": [
        "### Red LeNet5"
      ]
    },
    {
      "cell_type": "code",
      "execution_count": 190,
      "metadata": {
        "colab": {
          "base_uri": "https://localhost:8080/"
        },
        "id": "g1y0z4pXZe7B",
        "outputId": "791a2893-2358-4b7f-a6d3-85c59f7794ba"
      },
      "outputs": [
        {
          "name": "stdout",
          "output_type": "stream",
          "text": [
            "LeNet5(\n",
            "  (features): Sequential(\n",
            "    (0): Conv2d(1, 6, kernel_size=(5, 5), stride=(1, 1), padding=(2, 2))\n",
            "    (1): Tanh()\n",
            "    (2): MaxPool2d(kernel_size=2, stride=2, padding=0, dilation=1, ceil_mode=False)\n",
            "    (3): Conv2d(6, 16, kernel_size=(5, 5), stride=(1, 1), padding=(2, 2))\n",
            "    (4): Tanh()\n",
            "    (5): MaxPool2d(kernel_size=2, stride=2, padding=0, dilation=1, ceil_mode=False)\n",
            "    (6): Conv2d(16, 120, kernel_size=(5, 5), stride=(1, 1), padding=(2, 2))\n",
            "    (7): Tanh()\n",
            "  )\n",
            "  (classifier): Sequential(\n",
            "    (0): Linear(in_features=5880, out_features=84, bias=True)\n",
            "    (1): Tanh()\n",
            "    (2): Linear(in_features=84, out_features=10, bias=True)\n",
            "    (3): Softmax(dim=1)\n",
            "  )\n",
            ")\n"
          ]
        }
      ],
      "source": [
        "from torch.nn.modules import activation\n",
        "# Arquitectura basada en:\n",
        "# https://www.analyticsvidhya.com/blog/2021/03/the-architecture-of-lenet-5/\n",
        "class LeNet5(nn.Module):\n",
        "    def __init__(self, num_classes=10):\n",
        "        super(LeNet5, self).__init__()\n",
        "        self.features = nn.Sequential(\n",
        "            # Capa convolucional Conv1\n",
        "            # - 6 kernels de 5x5\n",
        "            # - stride de 1\n",
        "            # - activacion tanh\n",
        "            nn.Conv2d(1, 6, kernel_size=5, stride=1, padding=2),\n",
        "            nn.Tanh(),\n",
        "\n",
        "            # Capa de Max Pooling Pool1\n",
        "            # - kernel de 2x2\n",
        "            # - stride de 2\n",
        "            nn.MaxPool2d(kernel_size=2, stride=2),\n",
        "\n",
        "            # Capa convolucional Conv2\n",
        "            # - 16 kernels de 5x5\n",
        "            # - stride de 1\n",
        "            # - activacion tanh\n",
        "            nn.Conv2d(6, 16, kernel_size=5, stride=1, padding=2),\n",
        "            nn.Tanh(),\n",
        "\n",
        "            # Capa de Max Pooling Pool2\n",
        "            # - kernel de 2x2\n",
        "            # - stride de 2\n",
        "            nn.MaxPool2d(kernel_size=2, stride=2),\n",
        "\n",
        "            # Capa convolucional Conv2\n",
        "            # - 120 kernels de 5x5\n",
        "            # - stride de 1\n",
        "            # - activacion tanh\n",
        "            nn.Conv2d(16, 120, kernel_size=5, stride=1, padding=2),\n",
        "            nn.Tanh(),\n",
        "        )\n",
        "\n",
        "        # Calcular el tamaño de la salida de las capas convolucionales\n",
        "        self.fc_input_size = self._get_conv_output_size((1, 28, 28))\n",
        "\n",
        "        self.classifier = nn.Sequential(\n",
        "            # Capa totalmente conectada (FC1)\n",
        "            # - Activacion Tanh\n",
        "            nn.Linear(self.fc_input_size, 84),\n",
        "            nn.Tanh(),\n",
        "\n",
        "            # Capa de salida con num_classes\n",
        "            # - Activacion softmax\n",
        "            nn.Linear(84, num_classes),\n",
        "            nn.Softmax(dim=1),\n",
        "        )\n",
        "\n",
        "    def forward(self, x):\n",
        "        x = self.features(x)\n",
        "        x = x.view(x.size(0), -1)  # Aplanar la salida de la última capa convolucional\n",
        "        x = self.classifier(x)\n",
        "        return x\n",
        "\n",
        "    def _get_conv_output_size(self, shape):\n",
        "        x = torch.rand(shape)\n",
        "        x = self.features(x)\n",
        "        return x.view(1, -1).size(1)\n",
        "\n",
        "net = LeNet5()\n",
        "\n",
        "# Imprimir la arquitectura de la red\n",
        "print(net)"
      ]
    },
    {
      "cell_type": "code",
      "execution_count": 191,
      "metadata": {
        "id": "rEAFji78pr6J"
      },
      "outputs": [],
      "source": [
        "import torchvision.transforms as transforms\n",
        "from torchvision.datasets import MNIST\n",
        "from torch.utils.data import DataLoader\n",
        "\n",
        "# Transformaciones de datos para escalar las imágenes a [0, 1] y convertirlas a tensores\n",
        "transform = transforms.Compose([transforms.ToTensor()])\n",
        "\n",
        "# Cargar el conjunto de datos MNIST\n",
        "train_dataset = MNIST(root='./data', train=True, transform=transform, download=True)\n",
        "test_dataset = MNIST(root='./data', train=False, transform=transform, download=True)\n",
        "\n",
        "# Crear DataLoader para cargar lotes de datos\n",
        "batch_size = 64\n",
        "train_loader = DataLoader(train_dataset, batch_size=batch_size, shuffle=True)\n",
        "test_loader = DataLoader(test_dataset, batch_size=batch_size)"
      ]
    },
    {
      "cell_type": "code",
      "execution_count": 192,
      "metadata": {
        "colab": {
          "base_uri": "https://localhost:8080/"
        },
        "id": "nkGiH8HIptSA",
        "outputId": "8cf59d9f-8272-45f8-8f3c-f0bc870113cd"
      },
      "outputs": [
        {
          "name": "stdout",
          "output_type": "stream",
          "text": [
            "Epoch 1, Loss: 2.2981879690816918\n",
            "Epoch 2, Loss: 2.232636973039428\n",
            "Epoch 3, Loss: 1.8796762557172064\n",
            "Epoch 4, Loss: 1.7117158437588575\n",
            "Epoch 5, Loss: 1.6303758567838527\n",
            "Epoch 6, Loss: 1.594253583757608\n",
            "Epoch 7, Loss: 1.5732828763756417\n",
            "Epoch 8, Loss: 1.558727065510333\n",
            "Epoch 9, Loss: 1.547953422516902\n",
            "Epoch 10, Loss: 1.539352385728344\n",
            "Finished Training\n",
            "Accuracy on test set: 94.47%\n"
          ]
        }
      ],
      "source": [
        "import torch.optim as optim\n",
        "\n",
        "# Función de pérdida y optimizador\n",
        "criterion = nn.CrossEntropyLoss()\n",
        "optimizer = optim.SGD(net.parameters(), lr=0.001, momentum=0.9)\n",
        "\n",
        "epochs = 10\n",
        "\n",
        "# Entrenamiento\n",
        "for epoch in range(epochs):\n",
        "    running_loss = 0.0\n",
        "    for i, data in enumerate(train_loader, 0):\n",
        "        inputs, labels = data\n",
        "        optimizer.zero_grad()\n",
        "        outputs = net(inputs)\n",
        "        loss = criterion(outputs, labels)\n",
        "        loss.backward()\n",
        "        optimizer.step()\n",
        "        running_loss += loss.item()\n",
        "    print(f'Epoch {epoch+1}, Loss: {running_loss / len(train_loader)}')\n",
        "\n",
        "print('Finished Training')\n",
        "\n",
        "# Evaluación en el conjunto de prueba\n",
        "correct = 0\n",
        "total = 0\n",
        "with torch.no_grad():\n",
        "    for data in test_loader:\n",
        "        inputs, labels = data\n",
        "        outputs = net(inputs)\n",
        "        _, predicted = torch.max(outputs.data, 1)\n",
        "        total += labels.size(0)\n",
        "        correct += (predicted == labels).sum().item()\n",
        "\n",
        "print(f'Accuracy on test set: {100 * correct / total}%')\n"
      ]
    }
  ],
  "metadata": {
    "accelerator": "GPU",
    "colab": {
      "gpuType": "T4",
      "provenance": []
    },
    "kernelspec": {
      "display_name": "Python 3",
      "name": "python3"
    },
    "language_info": {
      "name": "python"
    }
  },
  "nbformat": 4,
  "nbformat_minor": 0
}
