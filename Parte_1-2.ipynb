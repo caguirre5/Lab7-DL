{
 "cells": [
  {
   "cell_type": "code",
   "execution_count": 11,
   "metadata": {},
   "outputs": [
    {
     "name": "stdout",
     "output_type": "stream",
     "text": [
      "cuda:0\n"
     ]
    }
   ],
   "source": [
    "import torch\n",
    "import torch.nn as nn\n",
    "import torch.optim as optim\n",
    "import torchvision\n",
    "import torchvision.transforms as transforms\n",
    "\n",
    "# Verificar si CUDA está disponible y configurar el dispositivo (utilizando la GPU si está disponible)\n",
    "device = torch.device(\"cuda:0\" if torch.cuda.is_available() else \"cpu\")\n",
    "print(device)\n",
    "\n",
    "# Definir la arquitectura de AlexNet\n",
    "class AlexNet(nn.Module):\n",
    "    def __init__(self, num_classes=10):\n",
    "        super(AlexNet, self).__init__()\n",
    "        self.features = nn.Sequential(\n",
    "            # Capa convolucional Conv1 con ReLU\n",
    "            nn.Conv2d(3, 64, kernel_size=11, stride=4, padding=2),\n",
    "            nn.ReLU(inplace=True),\n",
    "            # Capa de Max Pooling Pool1\n",
    "            nn.MaxPool2d(kernel_size=3, stride=2),\n",
    "            # Capa convolucional Conv2 con ReLU\n",
    "            nn.Conv2d(64, 192, kernel_size=5, padding=2),\n",
    "            nn.ReLU(inplace=True),\n",
    "            # Capa de Max Pooling Pool2\n",
    "            nn.MaxPool2d(kernel_size=3, stride=2),\n",
    "            # Capas convolucionales Conv3, Conv4, Conv5 con ReLU\n",
    "            nn.Conv2d(192, 384, kernel_size=3, padding=1),\n",
    "            nn.ReLU(inplace=True),\n",
    "            nn.Conv2d(384, 256, kernel_size=3, padding=1),\n",
    "            nn.ReLU(inplace=True),\n",
    "            nn.Conv2d(256, 256, kernel_size=3, padding=1),\n",
    "            nn.ReLU(inplace=True),\n",
    "            # Capa de Max Pooling Pool5\n",
    "            nn.MaxPool2d(kernel_size=3, stride=2),\n",
    "        )\n",
    "        self.classifier = nn.Sequential(\n",
    "            # Capa de Dropout\n",
    "            nn.Dropout(),\n",
    "            # Capa totalmente conectada (FC6) con ReLU\n",
    "            nn.Linear(256 * 6 * 6, 4096),\n",
    "            nn.ReLU(inplace=True),\n",
    "            # Capa de Dropout\n",
    "            nn.Dropout(),\n",
    "            # Capa totalmente conectada (FC7) con ReLU\n",
    "            nn.Linear(4096, 4096),\n",
    "            nn.ReLU(inplace=True),\n",
    "            # Capa de salida con num_classes (en este caso, 10 para CIFAR-10)\n",
    "            nn.Linear(4096, num_classes),\n",
    "        )\n",
    "\n",
    "    def forward(self, x):\n",
    "        x = self.features(x)\n",
    "        x = x.view(x.size(0), 256 * 6 * 6)\n",
    "        x = self.classifier(x)\n",
    "        return x"
   ]
  },
  {
   "cell_type": "code",
   "execution_count": 12,
   "metadata": {},
   "outputs": [
    {
     "name": "stdout",
     "output_type": "stream",
     "text": [
      "Files already downloaded and verified\n",
      "Files already downloaded and verified\n"
     ]
    }
   ],
   "source": [
    "# Descargar y cargar el conjunto de datos CIFAR-10\n",
    "transform = transforms.Compose([transforms.Resize((224, 224)),\n",
    "                                transforms.ToTensor(),\n",
    "                                transforms.Normalize((0.5, 0.5, 0.5), (0.5, 0.5, 0.5))])\n",
    "\n",
    "trainset = torchvision.datasets.CIFAR10(root='./data', train=True, download=True, transform=transform)\n",
    "trainloader = torch.utils.data.DataLoader(trainset, batch_size=32, shuffle=True, num_workers=2)\n",
    "\n",
    "testset = torchvision.datasets.CIFAR10(root='./data', train=False, download=True, transform=transform)\n",
    "testloader = torch.utils.data.DataLoader(testset, batch_size=32, shuffle=False, num_workers=2)"
   ]
  },
  {
   "cell_type": "code",
   "execution_count": 13,
   "metadata": {},
   "outputs": [],
   "source": [
    "# Inicializar la red y el optimizador en la GPU si está disponible\n",
    "net = AlexNet().to(device)  # Mueve la red AlexNet a la GPU si está disponible\n",
    "criterion = nn.CrossEntropyLoss()  # Función de pérdida de entropía cruzada\n",
    "optimizer = optim.SGD(net.parameters(), lr=0.01, momentum=0.9)  # Optimizador SGD con tasa de aprendizaje y momento"
   ]
  },
  {
   "cell_type": "code",
   "execution_count": 14,
   "metadata": {},
   "outputs": [
    {
     "name": "stdout",
     "output_type": "stream",
     "text": [
      "Epoch 1, Loss: 1.7963611483192565\n",
      "Epoch 2, Loss: 1.1888328436392663\n",
      "Epoch 3, Loss: 0.926413688935001\n",
      "Epoch 4, Loss: 0.7821292494514853\n",
      "Epoch 5, Loss: 0.6686124411707723\n",
      "Epoch 6, Loss: 0.5863529806879187\n",
      "Epoch 7, Loss: 0.527399187281928\n",
      "Epoch 8, Loss: 0.47528276032865313\n",
      "Epoch 9, Loss: 0.4373498583928713\n",
      "Epoch 10, Loss: 0.3973131573968165\n",
      "Entrenamiento finalizado\n"
     ]
    }
   ],
   "source": [
    "# Entrenar la red\n",
    "for epoch in range(10):  # Número de épocas de entrenamiento (puedes ajustarlo)\n",
    "    running_loss = 0.0\n",
    "    for i, data in enumerate(trainloader, 0):\n",
    "        inputs, labels = data\n",
    "        inputs, labels = inputs.to(device), labels.to(device)  # Mover datos a la GPU si está disponible\n",
    "        optimizer.zero_grad()  # Reiniciar los gradientes acumulados\n",
    "        outputs = net(inputs)  # Propagar hacia adelante (forward pass)\n",
    "        loss = criterion(outputs, labels)  # Calcular la pérdida\n",
    "        loss.backward()  # Retropropagación (backpropagation)\n",
    "        optimizer.step()  # Actualizar los pesos de la red\n",
    "        running_loss += loss.item()\n",
    "    print(f'Epoch {epoch + 1}, Loss: {running_loss / (i + 1)}')  # Imprimir la pérdida promedio de la época\n",
    "\n",
    "print('Entrenamiento finalizado')  # Mensaje de finalización del entrenamiento"
   ]
  },
  {
   "cell_type": "code",
   "execution_count": 15,
   "metadata": {},
   "outputs": [
    {
     "name": "stdout",
     "output_type": "stream",
     "text": [
      "Precisión en el conjunto de prueba: 76.7%\n"
     ]
    }
   ],
   "source": [
    "# Evaluar la red en el conjunto de prueba\n",
    "correct = 0\n",
    "total = 0\n",
    "with torch.no_grad():\n",
    "    for data in testloader:\n",
    "        images, labels = data\n",
    "        images, labels = images.to(device), labels.to(device)  # Mover datos a la GPU\n",
    "        outputs = net(images)\n",
    "        _, predicted = torch.max(outputs.data, 1)\n",
    "        total += labels.size(0)\n",
    "        correct += (predicted == labels).sum().item()\n",
    "\n",
    "print(f'Precisión en el conjunto de prueba: {100 * correct / total}%')"
   ]
  }
 ],
 "metadata": {
  "kernelspec": {
   "display_name": "Python 3",
   "language": "python",
   "name": "python3"
  },
  "language_info": {
   "codemirror_mode": {
    "name": "ipython",
    "version": 3
   },
   "file_extension": ".py",
   "mimetype": "text/x-python",
   "name": "python",
   "nbconvert_exporter": "python",
   "pygments_lexer": "ipython3",
   "version": "3.10.9"
  },
  "orig_nbformat": 4
 },
 "nbformat": 4,
 "nbformat_minor": 2
}
